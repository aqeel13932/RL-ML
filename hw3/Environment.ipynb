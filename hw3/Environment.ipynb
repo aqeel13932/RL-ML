{
 "cells": [
  {
   "cell_type": "code",
   "execution_count": 125,
   "metadata": {
    "collapsed": false
   },
   "outputs": [],
   "source": [
    "__author__ = 'aqeel'\n",
    "from math import pow\n",
    "from random import randint\n",
    "import matplotlib.pyplot as plt\n",
    "from mpl_toolkits.mplot3d import Axes3D\n",
    "import numpy as np\n",
    "import pylab"
   ]
  },
  {
   "cell_type": "code",
   "execution_count": 119,
   "metadata": {
    "collapsed": false
   },
   "outputs": [],
   "source": [
    "#Class to represent the state.\n",
    "class State:\n",
    "    def __init__(self,dealercard,playercard,Gamma):\n",
    "        '''\n",
    "        :param dealercard: Dealer black card\n",
    "        :param playercard: player black card\n",
    "        :param Gamma: discount value\n",
    "        '''\n",
    "        # Total of dealer cards sum\n",
    "        self.dealersum=dealercard\n",
    "        self.FirstDealerCard = dealercard\n",
    "        # Total of Players cards\n",
    "        self.playersum= playercard\n",
    "\n",
    "        # Represent if someoe got busted\n",
    "        self.terminated = False\n",
    "\n",
    "        # No of Player draws\n",
    "        self.Playerdraws=0\n",
    "\n",
    "        # Player status\n",
    "        self.PlayerBust=False\n",
    "\n",
    "        # Dealer Status\n",
    "        self.DealerBust=False\n",
    "\n",
    "        # No of Dealer Draws\n",
    "        self.Dealerdraws=0\n",
    "\n",
    "        # discount value\n",
    "        self.BaseGamma = Gamma\n",
    "        \n",
    "        # The Reward For The Current State\n",
    "        self.Reward = 0\n",
    "\n",
    "    def AddDrawnCardPlayer(self,value):\n",
    "        '''\n",
    "        add the drawn card value to player's sum and update the status of the game (ended or not ) & discount value\n",
    "        :param value: signed integer from -10 to 10 represent the value and the color of the drawn card\n",
    "        :return: Gamma for the current step\n",
    "        '''\n",
    "        if (self.terminated):\n",
    "            print 'Game Ended Already'\n",
    "        else:\n",
    "            self.Playerdraws+=1\n",
    "\n",
    "            if self.playersum+value>21 or self.playersum+value<1:\n",
    "                #'The player Busted.'\n",
    "                self.terminated=True\n",
    "                self.PlayerBust=True\n",
    "            else:\n",
    "                self.playersum+=value\n",
    "\n",
    "    def AddDrawnCardDealer(self,value):\n",
    "        '''\n",
    "        add the drawn card value to dealer's sum and update the status of the game (ended or not ) & discount value\n",
    "        :param value: signed integer from -10 to 10 represent the value and the color of the drawn card\n",
    "        :return: Gamma for the current step\n",
    "        '''\n",
    "        if (self.terminated):\n",
    "            print 'Game Ended Already'\n",
    "        else:\n",
    "            self.Dealerdraws+=1\n",
    "            self.dealersum+=value\n",
    "            if self.dealersum>21 or self.dealersum<1:\n",
    "                #'The Dealer Busted'\n",
    "                self.terminated=True\n",
    "                self.DealerBust=True\n",
    "            return pow(self.BaseGamma,self.Dealerdraws)\n",
    "\n",
    "    def __str__(self):\n",
    "        return 'Reward:{},Player Draws:{},Sum:{} ## Dealer Draws:{},Sum:{},First Card:{}'\\\n",
    "    .format(self.Reward,self.Playerdraws,self.playersum,self.Dealerdraws,self.dealersum,self.FirstDealerCard)"
   ]
  },
  {
   "cell_type": "code",
   "execution_count": 120,
   "metadata": {
    "collapsed": false
   },
   "outputs": [],
   "source": [
    "class Values:\n",
    "    \n",
    "    value=0\n",
    "    occurence=0\n",
    "    def UpdateValues(self,value):\n",
    "        self.occurence += 1\n",
    "        self.value += (float(1)/float(self.occurence))*(value-self.value)\n",
    "        \n",
    "values = {}\n",
    "def AddValue(playersum , dealercard,value):\n",
    "    if playersum<1:\n",
    "        return\n",
    "    if (playersum,dealercard) in values.keys():\n",
    "        (values[(playersum,dealercard)]).UpdateValues(value)\n",
    "    else:\n",
    "        tmp = Values()\n",
    "        tmp.UpdateValues(value)\n",
    "        values[(playersum,dealercard)] = tmp"
   ]
  },
  {
   "cell_type": "code",
   "execution_count": 127,
   "metadata": {
    "collapsed": false,
    "scrolled": true
   },
   "outputs": [],
   "source": [
    "    \"\"\"\n",
    "    plot the value function\n",
    "    :param value_function: dictionary[(dealer, player)]\n",
    "    :param title: str\n",
    "    \"\"\"\n",
    "    # plot the value function\n",
    "    x = range(1, 11)  # dealer\n",
    "    y = range(1, 22)  # player\n",
    "    X, Y = np.meshgrid(x, y)\n",
    "    Z = np.array([[0. for i in range(len(x))] for j in range(len(y))])\n",
    "    for i in x:\n",
    "        for j in y:\n",
    "            Z[j - 1][i - 1] = values[(j, i)].value\n",
    "    fig = pylab.figure()\n",
    "    ax = Axes3D(fig)\n",
    "    pylab.title(\"Monte Carlo\")\n",
    "    ax.set_xlabel(\"Dealer Showing\")\n",
    "    pylab.xlim([1, 10])\n",
    "    pylab.xticks(range(1, 11))\n",
    "    ax.set_ylabel(\"Player Sum\")\n",
    "    pylab.ylim([1, 21])\n",
    "    pylab.yticks(range(1, 22))\n",
    "    ax.plot_surface(X, Y, Z, rstride=1, cstride=1)\n",
    "    pylab.show()"
   ]
  },
  {
   "cell_type": "code",
   "execution_count": null,
   "metadata": {
    "collapsed": true
   },
   "outputs": [],
   "source": []
  },
  {
   "cell_type": "code",
   "execution_count": null,
   "metadata": {
    "collapsed": true
   },
   "outputs": [],
   "source": []
  }
 ],
 "metadata": {
  "kernelspec": {
   "display_name": "Python 2",
   "language": "python",
   "name": "python2"
  },
  "language_info": {
   "codemirror_mode": {
    "name": "ipython",
    "version": 2
   },
   "file_extension": ".py",
   "mimetype": "text/x-python",
   "name": "python",
   "nbconvert_exporter": "python",
   "pygments_lexer": "ipython2",
   "version": "2.7.10"
  }
 },
 "nbformat": 4,
 "nbformat_minor": 0
}
