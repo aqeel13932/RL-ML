{
 "cells": [
  {
   "cell_type": "markdown",
   "metadata": {},
   "source": [
    "# Project Idea\n",
    "* The idea of the project is to keep the robot from the wall with static distance to replace PID method.\n",
    "* <a href=https://en.wikipedia.org/wiki/PID_controller>Proportional–Integral–Derivative controller</a> is one of the method used for it but it need manual modification to get the constant variables.\n",
    "* Here we let the machine learn by it self and decide the required speed depending on the position.\n",
    "* (The algorithm Control specific region around the optimal distance only) other wise it might stuck far away from the wanted distance trying random actions."
   ]
  },
  {
   "cell_type": "markdown",
   "metadata": {},
   "source": [
    "# Robot behavior Simulater\n",
    "\n",
    "<b>The simulator created to minimze battery consumption on the real robot, used for testing and preparing code</b>"
   ]
  },
  {
   "cell_type": "code",
   "execution_count": 1,
   "metadata": {
    "collapsed": true
   },
   "outputs": [],
   "source": [
    "import numpy as np\n",
    "from time import sleep\n",
    "import sys\n",
    "from IPython.display import clear_output\n",
    "%matplotlib inline\n",
    "import matplotlib.pyplot as plt\n",
    "np.random.seed(1377)"
   ]
  },
  {
   "cell_type": "markdown",
   "metadata": {},
   "source": [
    "# Due to Battery Limitation This is A Robot Simulator\n",
    "* We interact with the robot using fwd,bwd,speed only\n",
    "* the robot feed back is it's distance from the wall"
   ]
  },
  {
   "cell_type": "code",
   "execution_count": 2,
   "metadata": {
    "collapsed": false
   },
   "outputs": [],
   "source": [
    "class Robot:\n",
    "    def __init__(self,ActionDuration =0.01):\n",
    "        self.actionduration = ActionDuration\n",
    "        self.distance = np.random.randint(0,100)\n",
    "        \n",
    "    def RegulaizeSpeed(self,speed):\n",
    "        if speed>255:\n",
    "            return 255\n",
    "        if speed<-255:\n",
    "            return -255\n",
    "        return speed\n",
    "    \n",
    "    def Move(self,speed):\n",
    "        if speed ==0:\n",
    "            self.StandStill()\n",
    "        elif speed<0:\n",
    "            self.bwd(speed)\n",
    "        elif speed>0:\n",
    "            self.fwd(speed)\n",
    "\n",
    "    def fwd(self,speed):\n",
    "        d = self.RegulaizeSpeed(speed) * self.actionduration\n",
    "        self.distance-= d\n",
    "        if self.distance<0:\n",
    "            self.distance=0\n",
    "        return self.distance\n",
    "    \n",
    "    def bwd(self,speed):\n",
    "        \n",
    "        d = -1*self.RegulaizeSpeed(speed) * self.actionduration\n",
    "        self.distance+= d\n",
    "        return self.distance\n",
    "    \n",
    "    def StandStill(self):\n",
    "        sleep(self.actionduration)\n",
    "        return self.distance"
   ]
  },
  {
   "cell_type": "code",
   "execution_count": 3,
   "metadata": {
    "collapsed": true
   },
   "outputs": [],
   "source": [
    "def Draw(main,text):\n",
    "    lst=[]\n",
    "    for i in range(main.qsa.shape[0]):\n",
    "        lst.append((main.States[i,0],main.actions[np.argmax(main.qsa[i])]))\n",
    "    lst=lst[1:len(lst)-1]\n",
    "    allinfo = np.array(lst)\n",
    "    plt.plot(allinfo[:,0],allinfo[:,1])\n",
    "    plt.title(text)\n",
    "    plt.show()"
   ]
  },
  {
   "cell_type": "markdown",
   "metadata": {},
   "source": [
    "# Reinforcement Learning Model"
   ]
  },
  {
   "cell_type": "code",
   "execution_count": 4,
   "metadata": {
    "collapsed": false
   },
   "outputs": [],
   "source": [
    "class RL_Controller:\n",
    "    \n",
    "    def __init__(self,lmbda=0.1,optimal_distance=30,staticActionThreshould=1,actionscount=3,StatesCount=5,\\\n",
    "                 Exploration=0.1,loaddata=False):\n",
    "        '''\n",
    "        staticActionThreshould : when distance more or less than 3*std Robot will get static action\n",
    "        ActionsCount : 1 for no action , rest divided by 2 to cover positive , negative\n",
    "        StatesCount : at least 4 per Side\n",
    "        '''\n",
    "        self.lmbda =lmbda\n",
    "        self.Exploration = Exploration\n",
    "        self.ActionsCount=actionscount\n",
    "        self.StatesCount= StatesCount\n",
    "        self.actions= 0\n",
    "        self.States=0\n",
    "        self.std = np.round(np.std(np.arange(0,optimal_distance*2)))*staticActionThreshould\n",
    "        self.AcceptedError = np.array((-1.0,1.0))*(0.03*optimal_distance)\n",
    "        self.qsa=0\n",
    "        self.OptimalDistance =30\n",
    "        np.random.seed(1377)\n",
    "        self.Robot = Robot()\n",
    "        #====Sarsa Related ===#\n",
    "        self.qsa=0\n",
    "        self.n=0\n",
    "        self.et=0\n",
    "        self.Terminated=False\n",
    "        \n",
    "        #self.stats = \n",
    "    def GenerateActions(self):\n",
    "        if self.ActionsCount%2==0:\n",
    "            self.ActionsCount+=1\n",
    "        if self.ActionsCount<3:\n",
    "            self.ActionsCount=3\n",
    "        lst =[]\n",
    "        #fwd or bwd number of actions\n",
    "        for i in range ((self.ActionsCount-1)/2 +1):\n",
    "            if i==0:\n",
    "                lst.append(i)\n",
    "                continue\n",
    "            lst = [-i]+lst\n",
    "            lst.append(i)\n",
    "        self.actions= (np.array(lst)/(max(lst)*1.0))*255\n",
    "        \n",
    "    def GenerateStats(self):\n",
    "        lst=[]\n",
    "        if (self.StatesCount-1)%2==0:\n",
    "            self.StatesCount+=1\n",
    "        if self.StatesCount<4:\n",
    "            self.StatesCount=4\n",
    "        for i in range(self.StatesCount):\n",
    "            if i==0:\n",
    "                lst.append(i)\n",
    "                continue\n",
    "            lst = [-i]+lst\n",
    "            lst.append(i)\n",
    "        lst = (np.array(lst)/(np.max(lst)*1.0))*self.std\n",
    "        lstdomains=[]\n",
    "        for i in range(len(lst)-1):\n",
    "            lstdomains.append((lst[i],lst[i+1]))\n",
    "        lstdomains = [(-3000,lst[0])] + lstdomains\n",
    "        lstdomains.append((lst[len(lst)-1],3000))\n",
    "        self.States = np.array(lstdomains)\n",
    "        self.StatesCount = self.States.shape[0]\n",
    "    \n",
    "    def PrepareForSarsa(self):\n",
    "        self.qsa =np.random.uniform(-1,1,size=(self.States.shape[0],self.actions.shape[0]))\n",
    "        self.et = np.zeros((self.States.shape[0],self.actions.shape[0]))\n",
    "        self.n = np.zeros(self.States.shape[0])\n",
    "        \n",
    "    def Initalization(self):\n",
    "        print '=====Initialization====='\n",
    "        self.GenerateActions()\n",
    "        self.GenerateStats()\n",
    "        self.PrepareForSarsa()\n",
    "        print \"\"\"Lambda={},Exploration={},OptimalDistance={},Actions={},States={},Std={},Accepted Error={},\n",
    "        Robot Distance={},Qsa={}\"\"\".\\\n",
    "        format(self.lmbda,self.Exploration,self.OptimalDistance,self.actions.shape,self.States.shape,self.std,\\\n",
    "               self.AcceptedError,self.Robot.distance,self.qsa.shape)\n",
    "        \n",
    "    def GetStateIndex(self,CurrentState):\n",
    "        for i in range (self.States.shape[0]):\n",
    "            if self.States[i,0]<=CurrentState<=self.States[i,1]:\n",
    "                return i\n",
    "    \n",
    "    def GetAction(self,statindx):\n",
    "        \n",
    "        #Deterministic solution for state out of range to assure the Robot won't get lost\n",
    "        if statindx==0:\n",
    "            #print 'distance:{},statindx:{},state:{},action:{}'.format(self.Robot.distance, statindx,self.States[statindx],self.actions[len(self.actions)-1])\n",
    "            return 0\n",
    "        if statindx==len(self.States)-1:\n",
    "            #print 'distance:{},statindx:{},state:{},action:{}'.format(self.Robot.distance,statindx,self.States[statindx],self.actions[0])\n",
    "            return len(self.actions)-1\n",
    "        #Exploration Precentage depend on how many specific state  visited\n",
    "        exploration = 100.0 / (100.0 + self.n[statindx])\n",
    "        rnd = np.random.rand()\n",
    "        if rnd < exploration:\n",
    "            rnd = np.random.randint(len(self.actions))\n",
    "            return rnd\n",
    "        else:\n",
    "            return np.argmax(self.qsa[statindx])\n",
    "        \n",
    "    def Step(self,actnindx):\n",
    "        self.Robot.Move(self.actions[actnindx])\n",
    "        crntstat = self.GetCurrentState()\n",
    "        return crntstat,self.GetReward(crntstat)\n",
    "    \n",
    "    def GetCurrentState(self):\n",
    "        return self.Robot.distance - self.OptimalDistance\n",
    "    \n",
    "    def GetReward(self,crntstat):\n",
    "        if self.AcceptedError[0]<=crntstat<=self.AcceptedError[1]:\n",
    "            self.Terminated=True\n",
    "            return 10000\n",
    "        else:\n",
    "            return -1000\n",
    "            #return crntstat if crntstat<0 else -1*crntstat\n",
    "    def UpdateQsa(self,s_indx,s_pindx,a_indx,a_pindx,R):\n",
    "        self.n[s_indx] += 1\n",
    "        if self.Terminated:\n",
    "            qnext =0\n",
    "        else:\n",
    "            qnext = self.qsa[s_pindx,a_pindx]\n",
    "\n",
    "        delta = R + qnext - self.qsa[s_indx,a_indx]\n",
    "        self.et[s_indx,a_indx] += 1\n",
    "        try:\n",
    "            alpha = 1.0 / self.n[s_indx]\n",
    "        except:\n",
    "            alpha = 0\n",
    "\n",
    "        self.qsa += alpha * delta * self.et\n",
    "        self.et *= self.lmbda\n",
    "        \n",
    "    def PlaySarasa(self,nepisode):\n",
    "        self.n.fill(0)\n",
    "        #self.qsa[0,0]=100\n",
    "        #self.qsa[len(self.States)-1,len(self.actions)-1]=100\n",
    "        for i in range(nepisode):\n",
    "            self.et.fill(0)\n",
    "            self.Robot=Robot()\n",
    "            #print self.Robot.distance\n",
    "            self.Terminated=False\n",
    "            #---Game Started -----#\n",
    "            s = self.GetCurrentState()\n",
    "            sindx = self.GetStateIndex(s)\n",
    "            aindx = self.GetAction(sindx)\n",
    "            iit=0\n",
    "            while not self.Terminated:\n",
    "                iit+=1\n",
    "                s_p, R = self.Step(aindx)\n",
    "                s_pindx = self.GetStateIndex(s)\n",
    "                a_pindx = self.GetAction(s_pindx)\n",
    "                #if i==3 :\n",
    "                #    print 'dist={},new State = {},s_pindx={},Reward {},new Action = {}'\\\n",
    "                #    .format(self.Robot.distance, s_p,s_pindx,R,self.actions[a_pindx])\n",
    "                #    if iit==100:\n",
    "                #        self.Terminated=True\n",
    "                self.UpdateQsa(sindx,s_pindx,aindx,a_pindx,R)\n",
    "                s = s_p\n",
    "                sindx = s_pindx\n",
    "                aindx = a_pindx\n",
    "                #action= GetPlayerAction(Easy21)\n",
    "                #Update Qsa\n",
    "                #Update(oldp-1,oldd-1,olda,Easy21.Reward,Easy21.playersum-1,action,Easy21.terminated)\n",
    "                #if Easy21.terminated:\n",
    "                #    break\n",
    "                #if i%10000==0:\n",
    "                #    print i\n",
    "            if i%100==0:\n",
    "                clear_output()\n",
    "                print 'Episode :{}'.format(i)\n",
    "                \n",
    "        self.SaveModel(nepisode)\n",
    "    \n",
    "    def SaveModel(self,episods,name='qsa'):\n",
    "        fname = '{},stc:{},ac:{},epi:{}.dat'.format(name,self.States.shape[0],self.actions.shape[0],episods)\n",
    "        self.qsa.dump(fname)\n",
    "        \n",
    "    def LoadModel(self,episods,name='qsa'):\n",
    "        fname = '{},stc:{},ac:{},epi:{}.dat'.format(name,self.States.shape[0],self.actions.shape[0],episods)\n",
    "        self.qsa = np.load(fname)\n",
    "           #for i,__ in np.ndenumerate(qsa):\n",
    "               #print i\n",
    "        \n",
    "            "
   ]
  },
  {
   "cell_type": "code",
   "execution_count": 5,
   "metadata": {
    "collapsed": false,
    "scrolled": true
   },
   "outputs": [
    {
     "name": "stdout",
     "output_type": "stream",
     "text": [
      "=====Initialization=====\n",
      "Lambda=0.1,Exploration=0.1,OptimalDistance=30,Actions=(11,),States=(200, 2),Std=17.0,Accepted Error=[-0.9  0.9],\n",
      "        Robot Distance=54,Qsa=(200, 11)\n"
     ]
    },
    {
     "data": {
      "image/png": "[encoded data removed]",
      "text/plain": [
       "<matplotlib.figure.Figure at 0x7fbb4c81a550>"
      ]
     },
     "metadata": {},
     "output_type": "display_data"
    }
   ],
   "source": [
    "main = RL_Controller(optimal_distance=30,actionscount=10,StatesCount=100)\n",
    "main.Initalization()\n",
    "Draw(main,'When Initalized')"
   ]
  },
  {
   "cell_type": "code",
   "execution_count": 6,
   "metadata": {
    "collapsed": false,
    "scrolled": true
   },
   "outputs": [
    {
     "name": "stdout",
     "output_type": "stream",
     "text": [
      "Episode :900\n"
     ]
    }
   ],
   "source": [
    "main.PlaySarasa(1000)"
   ]
  },
  {
   "cell_type": "code",
   "execution_count": 7,
   "metadata": {
    "collapsed": false
   },
   "outputs": [
    {
     "data": {
      "image/png": "[encoded data removed]",
      "text/plain": [
       "<matplotlib.figure.Figure at 0x7fbb4c7b84d0>"
      ]
     },
     "metadata": {},
     "output_type": "display_data"
    }
   ],
   "source": [
    "Draw(main,'After 1000 Episodes')"
   ]
  },
  {
   "cell_type": "code",
   "execution_count": null,
   "metadata": {
    "collapsed": false
   },
   "outputs": [
    {
     "name": "stdout",
     "output_type": "stream",
     "text": [
      "Episode :13700\n"
     ]
    }
   ],
   "source": [
    "main.PlaySarasa(100000)"
   ]
  },
  {
   "cell_type": "code",
   "execution_count": 53,
   "metadata": {
    "collapsed": false
   },
   "outputs": [
    {
     "data": {
      "image/png": "[encoded data removed]",
      "text/plain": [
       "<matplotlib.figure.Figure at 0x7f7ffffea510>"
      ]
     },
     "metadata": {},
     "output_type": "display_data"
    }
   ],
   "source": [
    "Draw(main,'After 24300 Episodes')"
   ]
  },
  {
   "cell_type": "code",
   "execution_count": 56,
   "metadata": {
    "collapsed": false,
    "scrolled": true
   },
   "outputs": [
    {
     "name": "stdout",
     "output_type": "stream",
     "text": [
      "Domain:[-3000.   -17.],Best Action:0.0,Happend:680.0\n",
      "Domain:[-17.         -16.82828283],Best Action:-204.0,Happend:28.0\n",
      "Domain:[-16.82828283 -16.65656566],Best Action:-204.0,Happend:20.0\n",
      "Domain:[-16.65656566 -16.48484848],Best Action:51.0,Happend:21.0\n",
      "Domain:[-16.48484848 -16.31313131],Best Action:-153.0,Happend:43.0\n",
      "Domain:[-16.31313131 -16.14141414],Best Action:-255.0,Happend:26.0\n",
      "Domain:[-16.14141414 -15.96969697],Best Action:-102.0,Happend:38.0\n",
      "Domain:[-15.96969697 -15.7979798 ],Best Action:-255.0,Happend:54.0\n",
      "Domain:[-15.7979798  -15.62626263],Best Action:-255.0,Happend:16.0\n",
      "Domain:[-15.62626263 -15.45454545],Best Action:-153.0,Happend:34.0\n",
      "Domain:[-15.45454545 -15.28282828],Best Action:-255.0,Happend:51.0\n",
      "Domain:[-15.28282828 -15.11111111],Best Action:-255.0,Happend:37.0\n",
      "Domain:[-15.11111111 -14.93939394],Best Action:-255.0,Happend:78.0\n",
      "Domain:[-14.93939394 -14.76767677],Best Action:-255.0,Happend:62.0\n",
      "Domain:[-14.76767677 -14.5959596 ],Best Action:-255.0,Happend:49.0\n",
      "Domain:[-14.5959596  -14.42424242],Best Action:-255.0,Happend:70.0\n",
      "Domain:[-14.42424242 -14.25252525],Best Action:-255.0,Happend:60.0\n",
      "Domain:[-14.25252525 -14.08080808],Best Action:-204.0,Happend:42.0\n",
      "Domain:[-14.08080808 -13.90909091],Best Action:-255.0,Happend:81.0\n",
      "Domain:[-13.90909091 -13.73737374],Best Action:-204.0,Happend:87.0\n",
      "Domain:[-13.73737374 -13.56565657],Best Action:0.0,Happend:40.0\n",
      "Domain:[-13.56565657 -13.39393939],Best Action:0.0,Happend:56.0\n",
      "Domain:[-13.39393939 -13.22222222],Best Action:-255.0,Happend:93.0\n",
      "Domain:[-13.22222222 -13.05050505],Best Action:153.0,Happend:39.0\n",
      "Domain:[-13.05050505 -12.87878788],Best Action:-153.0,Happend:88.0\n",
      "Domain:[-12.87878788 -12.70707071],Best Action:-102.0,Happend:78.0\n",
      "Domain:[-12.70707071 -12.53535354],Best Action:-51.0,Happend:52.0\n",
      "Domain:[-12.53535354 -12.36363636],Best Action:-255.0,Happend:100.0\n",
      "Domain:[-12.36363636 -12.19191919],Best Action:-102.0,Happend:98.0\n",
      "Domain:[-12.19191919 -12.02020202],Best Action:0.0,Happend:66.0\n",
      "Domain:[-12.02020202 -11.84848485],Best Action:-204.0,Happend:125.0\n",
      "Domain:[-11.84848485 -11.67676768],Best Action:204.0,Happend:93.0\n",
      "Domain:[-11.67676768 -11.50505051],Best Action:-153.0,Happend:43.0\n",
      "Domain:[-11.50505051 -11.33333333],Best Action:51.0,Happend:94.0\n",
      "Domain:[-11.33333333 -11.16161616],Best Action:-51.0,Happend:94.0\n",
      "Domain:[-11.16161616 -10.98989899],Best Action:-204.0,Happend:86.0\n",
      "Domain:[-10.98989899 -10.81818182],Best Action:-255.0,Happend:87.0\n",
      "Domain:[-10.81818182 -10.64646465],Best Action:-255.0,Happend:121.0\n",
      "Domain:[-10.64646465 -10.47474747],Best Action:204.0,Happend:52.0\n",
      "Domain:[-10.47474747 -10.3030303 ],Best Action:-102.0,Happend:115.0\n",
      "Domain:[-10.3030303  -10.13131313],Best Action:-102.0,Happend:106.0\n",
      "Domain:[-10.13131313  -9.95959596],Best Action:-255.0,Happend:105.0\n",
      "Domain:[-9.95959596 -9.78787879],Best Action:-204.0,Happend:100.0\n",
      "Domain:[-9.78787879 -9.61616162],Best Action:-102.0,Happend:110.0\n",
      "Domain:[-9.61616162 -9.44444444],Best Action:-255.0,Happend:76.0\n",
      "Domain:[-9.44444444 -9.27272727],Best Action:-153.0,Happend:107.0\n",
      "Domain:[-9.27272727 -9.1010101 ],Best Action:-255.0,Happend:110.0\n",
      "Domain:[-9.1010101  -8.92929293],Best Action:-153.0,Happend:77.0\n",
      "Domain:[-8.92929293 -8.75757576],Best Action:-255.0,Happend:135.0\n",
      "Domain:[-8.75757576 -8.58585859],Best Action:-204.0,Happend:104.0\n",
      "Domain:[-8.58585859 -8.41414141],Best Action:-255.0,Happend:57.0\n",
      "Domain:[-8.41414141 -8.24242424],Best Action:0.0,Happend:142.0\n",
      "Domain:[-8.24242424 -8.07070707],Best Action:-255.0,Happend:99.0\n",
      "Domain:[-8.07070707 -7.8989899 ],Best Action:-204.0,Happend:97.0\n",
      "Domain:[-7.8989899  -7.72727273],Best Action:-255.0,Happend:107.0\n",
      "Domain:[-7.72727273 -7.55555556],Best Action:-102.0,Happend:84.0\n",
      "Domain:[-7.55555556 -7.38383838],Best Action:-153.0,Happend:82.0\n",
      "Domain:[-7.38383838 -7.21212121],Best Action:-153.0,Happend:117.0\n",
      "Domain:[-7.21212121 -7.04040404],Best Action:-153.0,Happend:105.0\n",
      "Domain:[-7.04040404 -6.86868687],Best Action:-255.0,Happend:83.0\n",
      "Domain:[-6.86868687 -6.6969697 ],Best Action:0.0,Happend:129.0\n",
      "Domain:[-6.6969697  -6.52525253],Best Action:153.0,Happend:93.0\n",
      "Domain:[-6.52525253 -6.35353535],Best Action:153.0,Happend:68.0\n",
      "Domain:[-6.35353535 -6.18181818],Best Action:-204.0,Happend:116.0\n",
      "Domain:[-6.18181818 -6.01010101],Best Action:102.0,Happend:107.0\n",
      "Domain:[-6.01010101 -5.83838384],Best Action:-204.0,Happend:75.0\n",
      "Domain:[-5.83838384 -5.66666667],Best Action:255.0,Happend:128.0\n",
      "Domain:[-5.66666667 -5.49494949],Best Action:-255.0,Happend:102.0\n",
      "Domain:[-5.49494949 -5.32323232],Best Action:-51.0,Happend:77.0\n",
      "Domain:[-5.32323232 -5.15151515],Best Action:-102.0,Happend:107.0\n",
      "Domain:[-5.15151515 -4.97979798],Best Action:-204.0,Happend:119.0\n",
      "Domain:[-4.97979798 -4.80808081],Best Action:-255.0,Happend:61.0\n",
      "Domain:[-4.80808081 -4.63636364],Best Action:-204.0,Happend:104.0\n",
      "Domain:[-4.63636364 -4.46464646],Best Action:-255.0,Happend:85.0\n",
      "Domain:[-4.46464646 -4.29292929],Best Action:-255.0,Happend:59.0\n",
      "Domain:[-4.29292929 -4.12121212],Best Action:-204.0,Happend:129.0\n",
      "Domain:[-4.12121212 -3.94949495],Best Action:-255.0,Happend:123.0\n",
      "Domain:[-3.94949495 -3.77777778],Best Action:-204.0,Happend:74.0\n",
      "Domain:[-3.77777778 -3.60606061],Best Action:-204.0,Happend:78.0\n",
      "Domain:[-3.60606061 -3.43434343],Best Action:-51.0,Happend:79.0\n",
      "Domain:[-3.43434343 -3.26262626],Best Action:-204.0,Happend:74.0\n",
      "Domain:[-3.26262626 -3.09090909],Best Action:-153.0,Happend:95.0\n",
      "Domain:[-3.09090909 -2.91919192],Best Action:-102.0,Happend:92.0\n",
      "Domain:[-2.91919192 -2.74747475],Best Action:-204.0,Happend:32.0\n",
      "Domain:[-2.74747475 -2.57575758],Best Action:-204.0,Happend:56.0\n",
      "Domain:[-2.57575758 -2.4040404 ],Best Action:-153.0,Happend:52.0\n",
      "Domain:[-2.4040404  -2.23232323],Best Action:-255.0,Happend:37.0\n",
      "Domain:[-2.23232323 -2.06060606],Best Action:-102.0,Happend:35.0\n",
      "Domain:[-2.06060606 -1.88888889],Best Action:-204.0,Happend:46.0\n",
      "Domain:[-1.88888889 -1.71717172],Best Action:-153.0,Happend:21.0\n",
      "Domain:[-1.71717172 -1.54545455],Best Action:-51.0,Happend:60.0\n",
      "Domain:[-1.54545455 -1.37373737],Best Action:-204.0,Happend:59.0\n",
      "Domain:[-1.37373737 -1.2020202 ],Best Action:-204.0,Happend:36.0\n",
      "Domain:[-1.2020202  -1.03030303],Best Action:-204.0,Happend:49.0\n",
      "Domain:[-1.03030303 -0.85858586],Best Action:-102.0,Happend:62.0\n",
      "Domain:[-0.85858586 -0.68686869],Best Action:153.0,Happend:0.0\n",
      "Domain:[-0.68686869 -0.51515152],Best Action:-204.0,Happend:0.0\n",
      "Domain:[-0.51515152 -0.34343434],Best Action:-204.0,Happend:0.0\n",
      "Domain:[-0.34343434 -0.17171717],Best Action:-51.0,Happend:0.0\n",
      "Domain:[-0.17171717  0.        ],Best Action:-51.0,Happend:20.0\n",
      "Domain:[ 0.          0.17171717],Best Action:255.0,Happend:0.0\n",
      "Domain:[ 0.17171717  0.34343434],Best Action:0.0,Happend:0.0\n",
      "Domain:[ 0.34343434  0.51515152],Best Action:-204.0,Happend:0.0\n",
      "Domain:[ 0.51515152  0.68686869],Best Action:-255.0,Happend:0.0\n",
      "Domain:[ 0.68686869  0.85858586],Best Action:0.0,Happend:0.0\n",
      "Domain:[ 0.85858586  1.03030303],Best Action:153.0,Happend:108.0\n",
      "Domain:[ 1.03030303  1.2020202 ],Best Action:204.0,Happend:58.0\n",
      "Domain:[ 1.2020202   1.37373737],Best Action:255.0,Happend:48.0\n",
      "Domain:[ 1.37373737  1.54545455],Best Action:-102.0,Happend:70.0\n",
      "Domain:[ 1.54545455  1.71717172],Best Action:255.0,Happend:25.0\n",
      "Domain:[ 1.71717172  1.88888889],Best Action:204.0,Happend:45.0\n",
      "Domain:[ 1.88888889  2.06060606],Best Action:204.0,Happend:89.0\n",
      "Domain:[ 2.06060606  2.23232323],Best Action:102.0,Happend:28.0\n",
      "Domain:[ 2.23232323  2.4040404 ],Best Action:255.0,Happend:104.0\n",
      "Domain:[ 2.4040404   2.57575758],Best Action:255.0,Happend:73.0\n",
      "Domain:[ 2.57575758  2.74747475],Best Action:102.0,Happend:63.0\n",
      "Domain:[ 2.74747475  2.91919192],Best Action:153.0,Happend:129.0\n",
      "Domain:[ 2.91919192  3.09090909],Best Action:153.0,Happend:166.0\n",
      "Domain:[ 3.09090909  3.26262626],Best Action:255.0,Happend:83.0\n",
      "Domain:[ 3.26262626  3.43434343],Best Action:255.0,Happend:124.0\n",
      "Domain:[ 3.43434343  3.60606061],Best Action:255.0,Happend:131.0\n",
      "Domain:[ 3.60606061  3.77777778],Best Action:153.0,Happend:97.0\n",
      "Domain:[ 3.77777778  3.94949495],Best Action:102.0,Happend:234.0\n",
      "Domain:[ 3.94949495  4.12121212],Best Action:204.0,Happend:169.0\n",
      "Domain:[ 4.12121212  4.29292929],Best Action:204.0,Happend:102.0\n",
      "Domain:[ 4.29292929  4.46464646],Best Action:255.0,Happend:255.0\n",
      "Domain:[ 4.46464646  4.63636364],Best Action:204.0,Happend:160.0\n",
      "Domain:[ 4.63636364  4.80808081],Best Action:255.0,Happend:153.0\n",
      "Domain:[ 4.80808081  4.97979798],Best Action:51.0,Happend:277.0\n",
      "Domain:[ 4.97979798  5.15151515],Best Action:204.0,Happend:168.0\n",
      "Domain:[ 5.15151515  5.32323232],Best Action:255.0,Happend:116.0\n",
      "Domain:[ 5.32323232  5.49494949],Best Action:-204.0,Happend:336.0\n",
      "Domain:[ 5.49494949  5.66666667],Best Action:255.0,Happend:176.0\n",
      "Domain:[ 5.66666667  5.83838384],Best Action:102.0,Happend:119.0\n",
      "Domain:[ 5.83838384  6.01010101],Best Action:255.0,Happend:361.0\n",
      "Domain:[ 6.01010101  6.18181818],Best Action:255.0,Happend:163.0\n",
      "Domain:[ 6.18181818  6.35353535],Best Action:255.0,Happend:143.0\n",
      "Domain:[ 6.35353535  6.52525253],Best Action:-51.0,Happend:431.0\n",
      "Domain:[ 6.52525253  6.6969697 ],Best Action:204.0,Happend:245.0\n",
      "Domain:[ 6.6969697   6.86868687],Best Action:102.0,Happend:137.0\n",
      "Domain:[ 6.86868687  7.04040404],Best Action:-204.0,Happend:527.0\n",
      "Domain:[ 7.04040404  7.21212121],Best Action:-102.0,Happend:214.0\n",
      "Domain:[ 7.21212121  7.38383838],Best Action:204.0,Happend:157.0\n",
      "Domain:[ 7.38383838  7.55555556],Best Action:-102.0,Happend:556.0\n",
      "Domain:[ 7.55555556  7.72727273],Best Action:-102.0,Happend:260.0\n",
      "Domain:[ 7.72727273  7.8989899 ],Best Action:255.0,Happend:197.0\n",
      "Domain:[ 7.8989899   8.07070707],Best Action:153.0,Happend:579.0\n",
      "Domain:[ 8.07070707  8.24242424],Best Action:-153.0,Happend:203.0\n",
      "Domain:[ 8.24242424  8.41414141],Best Action:255.0,Happend:174.0\n",
      "Domain:[ 8.41414141  8.58585859],Best Action:51.0,Happend:501.0\n",
      "Domain:[ 8.58585859  8.75757576],Best Action:-153.0,Happend:236.0\n",
      "Domain:[ 8.75757576  8.92929293],Best Action:255.0,Happend:223.0\n",
      "Domain:[ 8.92929293  9.1010101 ],Best Action:102.0,Happend:448.0\n",
      "Domain:[ 9.1010101   9.27272727],Best Action:0.0,Happend:260.0\n",
      "Domain:[ 9.27272727  9.44444444],Best Action:255.0,Happend:240.0\n",
      "Domain:[ 9.44444444  9.61616162],Best Action:204.0,Happend:394.0\n",
      "Domain:[ 9.61616162  9.78787879],Best Action:102.0,Happend:225.0\n",
      "Domain:[ 9.78787879  9.95959596],Best Action:51.0,Happend:181.0\n",
      "Domain:[  9.95959596  10.13131313],Best Action:102.0,Happend:460.0\n",
      "Domain:[ 10.13131313  10.3030303 ],Best Action:102.0,Happend:248.0\n",
      "Domain:[ 10.3030303   10.47474747],Best Action:-255.0,Happend:255.0\n",
      "Domain:[ 10.47474747  10.64646465],Best Action:102.0,Happend:267.0\n",
      "Domain:[ 10.64646465  10.81818182],Best Action:255.0,Happend:185.0\n",
      "Domain:[ 10.81818182  10.98989899],Best Action:51.0,Happend:228.0\n",
      "Domain:[ 10.98989899  11.16161616],Best Action:204.0,Happend:286.0\n",
      "Domain:[ 11.16161616  11.33333333],Best Action:255.0,Happend:187.0\n",
      "Domain:[ 11.33333333  11.50505051],Best Action:0.0,Happend:250.0\n",
      "Domain:[ 11.50505051  11.67676768],Best Action:255.0,Happend:223.0\n",
      "Domain:[ 11.67676768  11.84848485],Best Action:255.0,Happend:148.0\n",
      "Domain:[ 11.84848485  12.02020202],Best Action:204.0,Happend:242.0\n",
      "Domain:[ 12.02020202  12.19191919],Best Action:-51.0,Happend:188.0\n",
      "Domain:[ 12.19191919  12.36363636],Best Action:204.0,Happend:170.0\n",
      "Domain:[ 12.36363636  12.53535354],Best Action:255.0,Happend:217.0\n",
      "Domain:[ 12.53535354  12.70707071],Best Action:153.0,Happend:182.0\n",
      "Domain:[ 12.70707071  12.87878788],Best Action:255.0,Happend:141.0\n",
      "Domain:[ 12.87878788  13.05050505],Best Action:204.0,Happend:214.0\n",
      "Domain:[ 13.05050505  13.22222222],Best Action:204.0,Happend:175.0\n",
      "Domain:[ 13.22222222  13.39393939],Best Action:204.0,Happend:126.0\n",
      "Domain:[ 13.39393939  13.56565657],Best Action:204.0,Happend:206.0\n",
      "Domain:[ 13.56565657  13.73737374],Best Action:255.0,Happend:140.0\n",
      "Domain:[ 13.73737374  13.90909091],Best Action:204.0,Happend:141.0\n",
      "Domain:[ 13.90909091  14.08080808],Best Action:255.0,Happend:169.0\n",
      "Domain:[ 14.08080808  14.25252525],Best Action:255.0,Happend:118.0\n",
      "Domain:[ 14.25252525  14.42424242],Best Action:255.0,Happend:120.0\n",
      "Domain:[ 14.42424242  14.5959596 ],Best Action:255.0,Happend:122.0\n",
      "Domain:[ 14.5959596   14.76767677],Best Action:204.0,Happend:117.0\n",
      "Domain:[ 14.76767677  14.93939394],Best Action:255.0,Happend:109.0\n",
      "Domain:[ 14.93939394  15.11111111],Best Action:153.0,Happend:116.0\n",
      "Domain:[ 15.11111111  15.28282828],Best Action:255.0,Happend:99.0\n",
      "Domain:[ 15.28282828  15.45454545],Best Action:255.0,Happend:91.0\n",
      "Domain:[ 15.45454545  15.62626263],Best Action:51.0,Happend:83.0\n",
      "Domain:[ 15.62626263  15.7979798 ],Best Action:204.0,Happend:98.0\n",
      "Domain:[ 15.7979798   15.96969697],Best Action:153.0,Happend:75.0\n",
      "Domain:[ 15.96969697  16.14141414],Best Action:204.0,Happend:118.0\n",
      "Domain:[ 16.14141414  16.31313131],Best Action:102.0,Happend:80.0\n",
      "Domain:[ 16.31313131  16.48484848],Best Action:204.0,Happend:51.0\n",
      "Domain:[ 16.48484848  16.65656566],Best Action:-204.0,Happend:72.0\n",
      "Domain:[ 16.65656566  16.82828283],Best Action:0.0,Happend:47.0\n",
      "Domain:[ 16.82828283  17.        ],Best Action:204.0,Happend:80.0\n",
      "Domain:[   17.  3000.],Best Action:-51.0,Happend:6805.0\n"
     ]
    }
   ],
   "source": [
    "for i in range (main.States.shape[0]):\n",
    "    print 'Domain:{},Best Action:{},Happend:{}'.\\\n",
    "    format(main.States[i],main.actions[np.argmax(main.qsa[i])],main.n[i])"
   ]
  },
  {
   "cell_type": "code",
   "execution_count": null,
   "metadata": {
    "collapsed": false
   },
   "outputs": [],
   "source": [
    "print main.Robot.distance\n",
    "main.Robot.bwd(10)\n",
    "print main.Robot.distance"
   ]
  },
  {
   "cell_type": "code",
   "execution_count": 34,
   "metadata": {
    "collapsed": false
   },
   "outputs": [
    {
     "data": {
      "text/plain": [
       "array([[ -4.86079598e+01,  -3.69799322e-01,  -7.99636621e-01, ...,\n",
       "         -9.06011797e-01,  -5.34107766e-01,  -9.95338563e-01],\n",
       "       [ -1.66335484e+01,  -7.04149432e+00,  -6.01316346e+00, ...,\n",
       "         -7.61609585e+00,  -7.79820359e+00,  -1.13335387e+01],\n",
       "       [ -3.64008250e+00,  -4.05207040e+00,  -1.12008732e+01, ...,\n",
       "         -5.08551684e+00,  -1.29540513e+01,  -2.27656415e+01],\n",
       "       ..., \n",
       "       [ -8.92406157e+00,  -1.03510871e+01,  -1.03781501e+01, ...,\n",
       "         -1.26936161e+01,  -1.81213799e+01,  -2.49143705e+01],\n",
       "       [ -1.07948236e+01,  -9.18114805e+01,  -1.11387349e+01, ...,\n",
       "         -1.08170697e+01,  -1.64289041e+01,  -2.22118341e+01],\n",
       "       [ -3.29301547e-02,   7.16686700e-01,  -4.72632422e-01, ...,\n",
       "         -2.87673928e-01,   2.48335256e-01,  -1.55202599e+02]])"
      ]
     },
     "execution_count": 34,
     "metadata": {},
     "output_type": "execute_result"
    }
   ],
   "source": [
    "main.qsa"
   ]
  },
  {
   "cell_type": "markdown",
   "metadata": {},
   "source": [
    "# Problems \n",
    "* The Accepted error is 3% so if the optimal distance is 1000 that's mean 970 - 1030 considered as accepted areas.\n",
    "\n",
    "* Training Should be in Optimal area, but testing can be in any area."
   ]
  }
 ],
 "metadata": {
  "kernelspec": {
   "display_name": "Python 2",
   "language": "python",
   "name": "python2"
  },
  "language_info": {
   "codemirror_mode": {
    "name": "ipython",
    "version": 2
   },
   "file_extension": ".py",
   "mimetype": "text/x-python",
   "name": "python",
   "nbconvert_exporter": "python",
   "pygments_lexer": "ipython2",
   "version": "2.7.11"
  }
 },
 "nbformat": 4,
 "nbformat_minor": 0
}
